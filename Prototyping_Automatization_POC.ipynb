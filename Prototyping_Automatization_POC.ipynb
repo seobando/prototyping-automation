{
  "nbformat": 4,
  "nbformat_minor": 0,
  "metadata": {
    "colab": {
      "provenance": [],
      "toc_visible": true
    },
    "kernelspec": {
      "name": "python3",
      "display_name": "Python 3"
    },
    "language_info": {
      "name": "python"
    }
  },
  "cells": [
    {
      "cell_type": "markdown",
      "source": [
        "## Install required libraries"
      ],
      "metadata": {
        "id": "HrfSEu4uBQ38"
      }
    },
    {
      "cell_type": "code",
      "source": [
        "#!pip install openai"
      ],
      "metadata": {
        "id": "7-tUZGdDf-CM"
      },
      "execution_count": 75,
      "outputs": []
    },
    {
      "cell_type": "markdown",
      "source": [
        "## Load required libraries"
      ],
      "metadata": {
        "id": "tyCIVfRKBQns"
      }
    },
    {
      "cell_type": "code",
      "source": [
        "import os\n",
        "import json\n",
        "import ast\n",
        "from openai import OpenAI\n",
        "from IPython.display import display, HTML"
      ],
      "metadata": {
        "id": "S1whIHaocF9F"
      },
      "execution_count": 76,
      "outputs": []
    },
    {
      "cell_type": "markdown",
      "source": [
        "## Create OpenAI Client"
      ],
      "metadata": {
        "id": "DNvxa7F1Bek0"
      }
    },
    {
      "cell_type": "code",
      "source": [
        "from google.colab import userdata"
      ],
      "metadata": {
        "id": "qZg7tamfCIb7"
      },
      "execution_count": 77,
      "outputs": []
    },
    {
      "cell_type": "code",
      "source": [
        "client = OpenAI(\n",
        "    api_key = userdata.get('OPENAI_API_KEY')\n",
        ")"
      ],
      "metadata": {
        "id": "Jz0UUj1c-1w1"
      },
      "execution_count": 78,
      "outputs": []
    },
    {
      "cell_type": "markdown",
      "source": [
        "## Define functions"
      ],
      "metadata": {
        "id": "3zNB_zj9BiLc"
      }
    },
    {
      "cell_type": "code",
      "source": [
        "def get_completion(prompt, model=\"gpt-3.5-turbo\"):\n",
        "    messages = [{\"role\": \"user\", \"content\": prompt}]\n",
        "    response = client.chat.completions.create(\n",
        "        model=model,\n",
        "        messages=messages,\n",
        "        temperature=0,\n",
        "    )\n",
        "\n",
        "    return (response.choices[0].message.content)\n",
        "\n",
        "def clean_text(text):\n",
        "  lines = text.split(\"\\n\")\n",
        "  text_without_line_breaker = \"\\n\".join(\n",
        "      [line.strip() for line in lines if line.strip()]\n",
        "  )\n",
        "  return text_without_line_breaker"
      ],
      "metadata": {
        "id": "NKioOsH6-6Q9"
      },
      "execution_count": 79,
      "outputs": []
    },
    {
      "cell_type": "markdown",
      "source": [
        "## Create Prompt"
      ],
      "metadata": {
        "id": "-3xLbYE1BmyE"
      }
    },
    {
      "cell_type": "code",
      "source": [
        "user_story = \"\"\"\n",
        "Acceptance Criteria:\n",
        "\n",
        "Create a form that contains the following fields with their data types:\n",
        "  - Complejidad - type list with the values 'Alta', 'Media', 'Baja'\n",
        "  - Referencia - type list with the values 'Apple', 'Samsung', 'Motorola'\n",
        "  - Asesor(a) - type string\n",
        "  - Técnico - type string\n",
        "  - Suministros - type string\n",
        "\n",
        "The form should have some validations:\n",
        "  - The fields of type string should be emails.\n",
        "\n",
        "The form should following desing criteria:\n",
        "  - Each field is properly separated.\n",
        "  - The form should be responsive.\n",
        "\n",
        "\"\"\"\n",
        "\n",
        "html_template = \"\"\"\n",
        "    <!DOCTYPE html>\n",
        "    <html>\n",
        "    <head>\n",
        "        <meta charset=\"UTF-8\">\n",
        "        <title>Dynamic HTML Template</title>\n",
        "        <style>\n",
        "            <css_code_here>\n",
        "        </style>\n",
        "        <script>\n",
        "            <javascript_code_here>\n",
        "        </script>\n",
        "    </head>\n",
        "    <body>\n",
        "        <html_code_here>\n",
        "    </body>\n",
        "    </html>\n",
        "\"\"\"\n",
        "\n",
        "output_format = f\"\"\"\n",
        "{{\n",
        " 'proposal_1':'''{html_template}''',\n",
        " 'proposal_2':'''{html_template}''',\n",
        " 'proposal_3':'''{html_template}''',\n",
        "}}\n",
        "\"\"\"\n",
        "\n",
        "prompt = f\"\"\"\n",
        "Act as a front-end web developer expert with deep knowledge of UI/UX best practices.\n",
        "\n",
        "Based on the following user story delimited by triple backticks create three proposals with the code in html, css and javascript.\n",
        "\n",
        "```{user_story}```\n",
        "\n",
        "You should fill the <css_code_here>, <html_code_here>, <javascript_code_here> parts of the following output format:\n",
        "\n",
        "{output_format}\n",
        "\n",
        "\"\"\""
      ],
      "metadata": {
        "id": "DraKb2d1cPqK"
      },
      "execution_count": 80,
      "outputs": []
    },
    {
      "cell_type": "markdown",
      "source": [
        "## Run completition operation with Generative AI"
      ],
      "metadata": {
        "id": "C9m1DUOaBtqU"
      }
    },
    {
      "cell_type": "code",
      "source": [
        "response = get_completion(prompt)\n",
        "print(response)"
      ],
      "metadata": {
        "colab": {
          "base_uri": "https://localhost:8080/"
        },
        "id": "FCUYcXGncEkW",
        "outputId": "7ee22689-05a1-4622-8fa8-99e3fa665891"
      },
      "execution_count": 81,
      "outputs": [
        {
          "output_type": "stream",
          "name": "stdout",
          "text": [
            "{\n",
            " 'proposal_1':'''\n",
            "    <!DOCTYPE html>\n",
            "    <html>\n",
            "    <head>\n",
            "        <meta charset=\"UTF-8\">\n",
            "        <title>Form Proposal 1</title>\n",
            "        <style>\n",
            "            body {\n",
            "                font-family: Arial, sans-serif;\n",
            "                margin: 0;\n",
            "                padding: 0;\n",
            "                background-color: #f0f0f0;\n",
            "            }\n",
            "            form {\n",
            "                max-width: 600px;\n",
            "                margin: 20px auto;\n",
            "                padding: 20px;\n",
            "                background-color: #fff;\n",
            "                border-radius: 5px;\n",
            "            }\n",
            "            input, select {\n",
            "                width: 100%;\n",
            "                padding: 10px;\n",
            "                margin: 5px 0;\n",
            "                border: 1px solid #ccc;\n",
            "                border-radius: 5px;\n",
            "            }\n",
            "            button {\n",
            "                width: 100%;\n",
            "                padding: 10px;\n",
            "                background-color: #007bff;\n",
            "                color: #fff;\n",
            "                border: none;\n",
            "                border-radius: 5px;\n",
            "                cursor: pointer;\n",
            "            }\n",
            "        </style>\n",
            "        <script>\n",
            "            // JavaScript code for form validation can be added here\n",
            "        </script>\n",
            "    </head>\n",
            "    <body>\n",
            "        <form>\n",
            "            <label for=\"complejidad\">Complejidad:</label>\n",
            "            <select id=\"complejidad\" name=\"complejidad\">\n",
            "                <option value=\"Alta\">Alta</option>\n",
            "                <option value=\"Media\">Media</option>\n",
            "                <option value=\"Baja\">Baja</option>\n",
            "            </select>\n",
            "            <label for=\"referencia\">Referencia:</label>\n",
            "            <select id=\"referencia\" name=\"referencia\">\n",
            "                <option value=\"Apple\">Apple</option>\n",
            "                <option value=\"Samsung\">Samsung</option>\n",
            "                <option value=\"Motorola\">Motorola</option>\n",
            "            </select>\n",
            "            <label for=\"asesor\">Asesor(a):</label>\n",
            "            <input type=\"email\" id=\"asesor\" name=\"asesor\">\n",
            "            <label for=\"tecnico\">Técnico:</label>\n",
            "            <input type=\"email\" id=\"tecnico\" name=\"tecnico\">\n",
            "            <label for=\"suministros\">Suministros:</label>\n",
            "            <input type=\"email\" id=\"suministros\" name=\"suministros\">\n",
            "            <button type=\"submit\">Submit</button>\n",
            "        </form>\n",
            "    </body>\n",
            "    </html>\n",
            "''',\n",
            " 'proposal_2':'''\n",
            "    <!DOCTYPE html>\n",
            "    <html>\n",
            "    <head>\n",
            "        <meta charset=\"UTF-8\">\n",
            "        <title>Form Proposal 2</title>\n",
            "        <style>\n",
            "            body {\n",
            "                font-family: 'Roboto', sans-serif;\n",
            "                margin: 0;\n",
            "                padding: 0;\n",
            "                background-color: #f9f9f9;\n",
            "            }\n",
            "            form {\n",
            "                max-width: 500px;\n",
            "                margin: 20px auto;\n",
            "                padding: 20px;\n",
            "                background-color: #fff;\n",
            "                border-radius: 10px;\n",
            "                box-shadow: 0 0 10px rgba(0, 0, 0, 0.1);\n",
            "            }\n",
            "            input, select {\n",
            "                width: 100%;\n",
            "                padding: 10px;\n",
            "                margin: 5px 0;\n",
            "                border: 1px solid #ddd;\n",
            "                border-radius: 5px;\n",
            "            }\n",
            "            button {\n",
            "                width: 100%;\n",
            "                padding: 10px;\n",
            "                background-color: #4CAF50;\n",
            "                color: #fff;\n",
            "                border: none;\n",
            "                border-radius: 5px;\n",
            "                cursor: pointer;\n",
            "            }\n",
            "        </style>\n",
            "        <script>\n",
            "            // JavaScript code for form validation can be added here\n",
            "        </script>\n",
            "    </head>\n",
            "    <body>\n",
            "        <form>\n",
            "            <label for=\"complejidad\">Complejidad:</label>\n",
            "            <select id=\"complejidad\" name=\"complejidad\">\n",
            "                <option value=\"Alta\">Alta</option>\n",
            "                <option value=\"Media\">Media</option>\n",
            "                <option value=\"Baja\">Baja</option>\n",
            "            </select>\n",
            "            <label for=\"referencia\">Referencia:</label>\n",
            "            <select id=\"referencia\" name=\"referencia\">\n",
            "                <option value=\"Apple\">Apple</option>\n",
            "                <option value=\"Samsung\">Samsung</option>\n",
            "                <option value=\"Motorola\">Motorola</option>\n",
            "            </select>\n",
            "            <label for=\"asesor\">Asesor(a):</label>\n",
            "            <input type=\"email\" id=\"asesor\" name=\"asesor\">\n",
            "            <label for=\"tecnico\">Técnico:</label>\n",
            "            <input type=\"email\" id=\"tecnico\" name=\"tecnico\">\n",
            "            <label for=\"suministros\">Suministros:</label>\n",
            "            <input type=\"email\" id=\"suministros\" name=\"suministros\">\n",
            "            <button type=\"submit\">Submit</button>\n",
            "        </form>\n",
            "    </body>\n",
            "    </html>\n",
            "''',\n",
            " 'proposal_3':'''\n",
            "    <!DOCTYPE html>\n",
            "    <html>\n",
            "    <head>\n",
            "        <meta charset=\"UTF-8\">\n",
            "        <title>Form Proposal 3</title>\n",
            "        <style>\n",
            "            body {\n",
            "                font-family: 'Montserrat', sans-serif;\n",
            "                margin: 0;\n",
            "                padding: 0;\n",
            "                background-color: #f5f5f5;\n",
            "            }\n",
            "            form {\n",
            "                max-width: 400px;\n",
            "                margin: 20px auto;\n",
            "                padding: 20px;\n",
            "                background-color: #f9f9f9;\n",
            "                border-radius: 8px;\n",
            "                box-shadow: 0 0 8px rgba(0, 0, 0, 0.1);\n",
            "            }\n",
            "            input, select {\n",
            "                width: 100%;\n",
            "                padding: 8px;\n",
            "                margin: 5px 0;\n",
            "                border: 1px solid #ccc;\n",
            "                border-radius: 4px;\n",
            "            }\n",
            "            button {\n",
            "                width: 100%;\n",
            "                padding: 8px;\n",
            "                background-color: #ff5722;\n",
            "                color: #fff;\n",
            "                border: none;\n",
            "                border-radius: 4px;\n",
            "                cursor: pointer;\n",
            "            }\n",
            "        </style>\n",
            "        <script>\n",
            "            // JavaScript code for form validation can be added here\n",
            "        </script>\n",
            "    </head>\n",
            "    <body>\n",
            "        <form>\n",
            "            <label for=\"complejidad\">Complejidad:</label>\n",
            "            <select id=\"complejidad\" name=\"complejidad\">\n",
            "                <option value=\"Alta\">Alta</option>\n",
            "                <option value=\"Media\">Media</option>\n",
            "                <option value=\"Baja\">Baja</option>\n",
            "            </select>\n",
            "            <label for=\"referencia\">Referencia:</label>\n",
            "            <select id=\"referencia\" name=\"referencia\">\n",
            "                <option value=\"Apple\">Apple</option>\n",
            "                <option value=\"Samsung\">Samsung</option>\n",
            "                <option value=\"Motorola\">Motorola</option>\n",
            "            </select>\n",
            "            <label for=\"asesor\">Asesor(a):</label>\n",
            "            <input type=\"email\" id=\"asesor\" name=\"asesor\">\n",
            "            <label for=\"tecnico\">Técnico:</label>\n",
            "            <input type=\"email\" id=\"tecnico\" name=\"tecnico\">\n",
            "            <label for=\"suministros\">Suministros:</label>\n",
            "            <input type=\"email\" id=\"suministros\" name=\"suministros\">\n",
            "            <button type=\"submit\">Submit</button>\n",
            "        </form>\n",
            "    </body>\n",
            "    </html>\n",
            "''',\n",
            "}\n"
          ]
        }
      ]
    },
    {
      "cell_type": "markdown",
      "source": [
        "## Display proposals"
      ],
      "metadata": {
        "id": "X0Kig3lVB0Yr"
      }
    },
    {
      "cell_type": "code",
      "source": [
        "data_dict = ast.literal_eval(response)\n",
        "print(data_dict)"
      ],
      "metadata": {
        "colab": {
          "base_uri": "https://localhost:8080/"
        },
        "id": "JdZ3G1DtuL0L",
        "outputId": "0278c171-ba12-4666-85db-2fa9a3cdc1ba"
      },
      "execution_count": 82,
      "outputs": [
        {
          "output_type": "stream",
          "name": "stdout",
          "text": [
            "{'proposal_1': '\\n    <!DOCTYPE html>\\n    <html>\\n    <head>\\n        <meta charset=\"UTF-8\">\\n        <title>Form Proposal 1</title>\\n        <style>\\n            body {\\n                font-family: Arial, sans-serif;\\n                margin: 0;\\n                padding: 0;\\n                background-color: #f0f0f0;\\n            }\\n            form {\\n                max-width: 600px;\\n                margin: 20px auto;\\n                padding: 20px;\\n                background-color: #fff;\\n                border-radius: 5px;\\n            }\\n            input, select {\\n                width: 100%;\\n                padding: 10px;\\n                margin: 5px 0;\\n                border: 1px solid #ccc;\\n                border-radius: 5px;\\n            }\\n            button {\\n                width: 100%;\\n                padding: 10px;\\n                background-color: #007bff;\\n                color: #fff;\\n                border: none;\\n                border-radius: 5px;\\n                cursor: pointer;\\n            }\\n        </style>\\n        <script>\\n            // JavaScript code for form validation can be added here\\n        </script>\\n    </head>\\n    <body>\\n        <form>\\n            <label for=\"complejidad\">Complejidad:</label>\\n            <select id=\"complejidad\" name=\"complejidad\">\\n                <option value=\"Alta\">Alta</option>\\n                <option value=\"Media\">Media</option>\\n                <option value=\"Baja\">Baja</option>\\n            </select>\\n            <label for=\"referencia\">Referencia:</label>\\n            <select id=\"referencia\" name=\"referencia\">\\n                <option value=\"Apple\">Apple</option>\\n                <option value=\"Samsung\">Samsung</option>\\n                <option value=\"Motorola\">Motorola</option>\\n            </select>\\n            <label for=\"asesor\">Asesor(a):</label>\\n            <input type=\"email\" id=\"asesor\" name=\"asesor\">\\n            <label for=\"tecnico\">Técnico:</label>\\n            <input type=\"email\" id=\"tecnico\" name=\"tecnico\">\\n            <label for=\"suministros\">Suministros:</label>\\n            <input type=\"email\" id=\"suministros\" name=\"suministros\">\\n            <button type=\"submit\">Submit</button>\\n        </form>\\n    </body>\\n    </html>\\n', 'proposal_2': '\\n    <!DOCTYPE html>\\n    <html>\\n    <head>\\n        <meta charset=\"UTF-8\">\\n        <title>Form Proposal 2</title>\\n        <style>\\n            body {\\n                font-family: \\'Roboto\\', sans-serif;\\n                margin: 0;\\n                padding: 0;\\n                background-color: #f9f9f9;\\n            }\\n            form {\\n                max-width: 500px;\\n                margin: 20px auto;\\n                padding: 20px;\\n                background-color: #fff;\\n                border-radius: 10px;\\n                box-shadow: 0 0 10px rgba(0, 0, 0, 0.1);\\n            }\\n            input, select {\\n                width: 100%;\\n                padding: 10px;\\n                margin: 5px 0;\\n                border: 1px solid #ddd;\\n                border-radius: 5px;\\n            }\\n            button {\\n                width: 100%;\\n                padding: 10px;\\n                background-color: #4CAF50;\\n                color: #fff;\\n                border: none;\\n                border-radius: 5px;\\n                cursor: pointer;\\n            }\\n        </style>\\n        <script>\\n            // JavaScript code for form validation can be added here\\n        </script>\\n    </head>\\n    <body>\\n        <form>\\n            <label for=\"complejidad\">Complejidad:</label>\\n            <select id=\"complejidad\" name=\"complejidad\">\\n                <option value=\"Alta\">Alta</option>\\n                <option value=\"Media\">Media</option>\\n                <option value=\"Baja\">Baja</option>\\n            </select>\\n            <label for=\"referencia\">Referencia:</label>\\n            <select id=\"referencia\" name=\"referencia\">\\n                <option value=\"Apple\">Apple</option>\\n                <option value=\"Samsung\">Samsung</option>\\n                <option value=\"Motorola\">Motorola</option>\\n            </select>\\n            <label for=\"asesor\">Asesor(a):</label>\\n            <input type=\"email\" id=\"asesor\" name=\"asesor\">\\n            <label for=\"tecnico\">Técnico:</label>\\n            <input type=\"email\" id=\"tecnico\" name=\"tecnico\">\\n            <label for=\"suministros\">Suministros:</label>\\n            <input type=\"email\" id=\"suministros\" name=\"suministros\">\\n            <button type=\"submit\">Submit</button>\\n        </form>\\n    </body>\\n    </html>\\n', 'proposal_3': '\\n    <!DOCTYPE html>\\n    <html>\\n    <head>\\n        <meta charset=\"UTF-8\">\\n        <title>Form Proposal 3</title>\\n        <style>\\n            body {\\n                font-family: \\'Montserrat\\', sans-serif;\\n                margin: 0;\\n                padding: 0;\\n                background-color: #f5f5f5;\\n            }\\n            form {\\n                max-width: 400px;\\n                margin: 20px auto;\\n                padding: 20px;\\n                background-color: #f9f9f9;\\n                border-radius: 8px;\\n                box-shadow: 0 0 8px rgba(0, 0, 0, 0.1);\\n            }\\n            input, select {\\n                width: 100%;\\n                padding: 8px;\\n                margin: 5px 0;\\n                border: 1px solid #ccc;\\n                border-radius: 4px;\\n            }\\n            button {\\n                width: 100%;\\n                padding: 8px;\\n                background-color: #ff5722;\\n                color: #fff;\\n                border: none;\\n                border-radius: 4px;\\n                cursor: pointer;\\n            }\\n        </style>\\n        <script>\\n            // JavaScript code for form validation can be added here\\n        </script>\\n    </head>\\n    <body>\\n        <form>\\n            <label for=\"complejidad\">Complejidad:</label>\\n            <select id=\"complejidad\" name=\"complejidad\">\\n                <option value=\"Alta\">Alta</option>\\n                <option value=\"Media\">Media</option>\\n                <option value=\"Baja\">Baja</option>\\n            </select>\\n            <label for=\"referencia\">Referencia:</label>\\n            <select id=\"referencia\" name=\"referencia\">\\n                <option value=\"Apple\">Apple</option>\\n                <option value=\"Samsung\">Samsung</option>\\n                <option value=\"Motorola\">Motorola</option>\\n            </select>\\n            <label for=\"asesor\">Asesor(a):</label>\\n            <input type=\"email\" id=\"asesor\" name=\"asesor\">\\n            <label for=\"tecnico\">Técnico:</label>\\n            <input type=\"email\" id=\"tecnico\" name=\"tecnico\">\\n            <label for=\"suministros\">Suministros:</label>\\n            <input type=\"email\" id=\"suministros\" name=\"suministros\">\\n            <button type=\"submit\">Submit</button>\\n        </form>\\n    </body>\\n    </html>\\n'}\n"
          ]
        }
      ]
    },
    {
      "cell_type": "markdown",
      "source": [
        "### Proposal 1"
      ],
      "metadata": {
        "id": "xciI8SmhB42s"
      }
    },
    {
      "cell_type": "code",
      "source": [
        "text = data_dict[\"proposal_1\"]\n",
        "html_text = clean_text(text)\n",
        "display(HTML(html_text))"
      ],
      "metadata": {
        "colab": {
          "base_uri": "https://localhost:8080/",
          "height": 441
        },
        "id": "bzAzU9g7_p60",
        "outputId": "ab783dda-e6a1-4872-9fd3-b2829848650b"
      },
      "execution_count": 83,
      "outputs": [
        {
          "output_type": "display_data",
          "data": {
            "text/plain": [
              "<IPython.core.display.HTML object>"
            ],
            "text/html": [
              "<!DOCTYPE html>\n",
              "<html>\n",
              "<head>\n",
              "<meta charset=\"UTF-8\">\n",
              "<title>Form Proposal 1</title>\n",
              "<style>\n",
              "body {\n",
              "font-family: Arial, sans-serif;\n",
              "margin: 0;\n",
              "padding: 0;\n",
              "background-color: #f0f0f0;\n",
              "}\n",
              "form {\n",
              "max-width: 600px;\n",
              "margin: 20px auto;\n",
              "padding: 20px;\n",
              "background-color: #fff;\n",
              "border-radius: 5px;\n",
              "}\n",
              "input, select {\n",
              "width: 100%;\n",
              "padding: 10px;\n",
              "margin: 5px 0;\n",
              "border: 1px solid #ccc;\n",
              "border-radius: 5px;\n",
              "}\n",
              "button {\n",
              "width: 100%;\n",
              "padding: 10px;\n",
              "background-color: #007bff;\n",
              "color: #fff;\n",
              "border: none;\n",
              "border-radius: 5px;\n",
              "cursor: pointer;\n",
              "}\n",
              "</style>\n",
              "<script>\n",
              "// JavaScript code for form validation can be added here\n",
              "</script>\n",
              "</head>\n",
              "<body>\n",
              "<form>\n",
              "<label for=\"complejidad\">Complejidad:</label>\n",
              "<select id=\"complejidad\" name=\"complejidad\">\n",
              "<option value=\"Alta\">Alta</option>\n",
              "<option value=\"Media\">Media</option>\n",
              "<option value=\"Baja\">Baja</option>\n",
              "</select>\n",
              "<label for=\"referencia\">Referencia:</label>\n",
              "<select id=\"referencia\" name=\"referencia\">\n",
              "<option value=\"Apple\">Apple</option>\n",
              "<option value=\"Samsung\">Samsung</option>\n",
              "<option value=\"Motorola\">Motorola</option>\n",
              "</select>\n",
              "<label for=\"asesor\">Asesor(a):</label>\n",
              "<input type=\"email\" id=\"asesor\" name=\"asesor\">\n",
              "<label for=\"tecnico\">Técnico:</label>\n",
              "<input type=\"email\" id=\"tecnico\" name=\"tecnico\">\n",
              "<label for=\"suministros\">Suministros:</label>\n",
              "<input type=\"email\" id=\"suministros\" name=\"suministros\">\n",
              "<button type=\"submit\">Submit</button>\n",
              "</form>\n",
              "</body>\n",
              "</html>"
            ]
          },
          "metadata": {}
        }
      ]
    },
    {
      "cell_type": "markdown",
      "source": [
        "### Proposal 2"
      ],
      "metadata": {
        "id": "NVmod6mwB7zT"
      }
    },
    {
      "cell_type": "code",
      "source": [
        "text = data_dict[\"proposal_2\"]\n",
        "html_text = clean_text(text)\n",
        "display(HTML(html_text))"
      ],
      "metadata": {
        "colab": {
          "base_uri": "https://localhost:8080/",
          "height": 441
        },
        "id": "5KaHLBQdAphm",
        "outputId": "3a05dcb4-dc66-4ef8-c88e-cd7b75929ecc"
      },
      "execution_count": 84,
      "outputs": [
        {
          "output_type": "display_data",
          "data": {
            "text/plain": [
              "<IPython.core.display.HTML object>"
            ],
            "text/html": [
              "<!DOCTYPE html>\n",
              "<html>\n",
              "<head>\n",
              "<meta charset=\"UTF-8\">\n",
              "<title>Form Proposal 2</title>\n",
              "<style>\n",
              "body {\n",
              "font-family: 'Roboto', sans-serif;\n",
              "margin: 0;\n",
              "padding: 0;\n",
              "background-color: #f9f9f9;\n",
              "}\n",
              "form {\n",
              "max-width: 500px;\n",
              "margin: 20px auto;\n",
              "padding: 20px;\n",
              "background-color: #fff;\n",
              "border-radius: 10px;\n",
              "box-shadow: 0 0 10px rgba(0, 0, 0, 0.1);\n",
              "}\n",
              "input, select {\n",
              "width: 100%;\n",
              "padding: 10px;\n",
              "margin: 5px 0;\n",
              "border: 1px solid #ddd;\n",
              "border-radius: 5px;\n",
              "}\n",
              "button {\n",
              "width: 100%;\n",
              "padding: 10px;\n",
              "background-color: #4CAF50;\n",
              "color: #fff;\n",
              "border: none;\n",
              "border-radius: 5px;\n",
              "cursor: pointer;\n",
              "}\n",
              "</style>\n",
              "<script>\n",
              "// JavaScript code for form validation can be added here\n",
              "</script>\n",
              "</head>\n",
              "<body>\n",
              "<form>\n",
              "<label for=\"complejidad\">Complejidad:</label>\n",
              "<select id=\"complejidad\" name=\"complejidad\">\n",
              "<option value=\"Alta\">Alta</option>\n",
              "<option value=\"Media\">Media</option>\n",
              "<option value=\"Baja\">Baja</option>\n",
              "</select>\n",
              "<label for=\"referencia\">Referencia:</label>\n",
              "<select id=\"referencia\" name=\"referencia\">\n",
              "<option value=\"Apple\">Apple</option>\n",
              "<option value=\"Samsung\">Samsung</option>\n",
              "<option value=\"Motorola\">Motorola</option>\n",
              "</select>\n",
              "<label for=\"asesor\">Asesor(a):</label>\n",
              "<input type=\"email\" id=\"asesor\" name=\"asesor\">\n",
              "<label for=\"tecnico\">Técnico:</label>\n",
              "<input type=\"email\" id=\"tecnico\" name=\"tecnico\">\n",
              "<label for=\"suministros\">Suministros:</label>\n",
              "<input type=\"email\" id=\"suministros\" name=\"suministros\">\n",
              "<button type=\"submit\">Submit</button>\n",
              "</form>\n",
              "</body>\n",
              "</html>"
            ]
          },
          "metadata": {}
        }
      ]
    },
    {
      "cell_type": "markdown",
      "source": [
        "### Proposal 3"
      ],
      "metadata": {
        "id": "AsU52x3nB9vj"
      }
    },
    {
      "cell_type": "code",
      "source": [
        "text = data_dict[\"proposal_3\"]\n",
        "html_text = clean_text(text)\n",
        "display(HTML(html_text))"
      ],
      "metadata": {
        "colab": {
          "base_uri": "https://localhost:8080/",
          "height": 417
        },
        "id": "Ew6jsX8UA1DU",
        "outputId": "60c1f1f2-0cca-4a3b-9c95-86bb97aab7d4"
      },
      "execution_count": 85,
      "outputs": [
        {
          "output_type": "display_data",
          "data": {
            "text/plain": [
              "<IPython.core.display.HTML object>"
            ],
            "text/html": [
              "<!DOCTYPE html>\n",
              "<html>\n",
              "<head>\n",
              "<meta charset=\"UTF-8\">\n",
              "<title>Form Proposal 3</title>\n",
              "<style>\n",
              "body {\n",
              "font-family: 'Montserrat', sans-serif;\n",
              "margin: 0;\n",
              "padding: 0;\n",
              "background-color: #f5f5f5;\n",
              "}\n",
              "form {\n",
              "max-width: 400px;\n",
              "margin: 20px auto;\n",
              "padding: 20px;\n",
              "background-color: #f9f9f9;\n",
              "border-radius: 8px;\n",
              "box-shadow: 0 0 8px rgba(0, 0, 0, 0.1);\n",
              "}\n",
              "input, select {\n",
              "width: 100%;\n",
              "padding: 8px;\n",
              "margin: 5px 0;\n",
              "border: 1px solid #ccc;\n",
              "border-radius: 4px;\n",
              "}\n",
              "button {\n",
              "width: 100%;\n",
              "padding: 8px;\n",
              "background-color: #ff5722;\n",
              "color: #fff;\n",
              "border: none;\n",
              "border-radius: 4px;\n",
              "cursor: pointer;\n",
              "}\n",
              "</style>\n",
              "<script>\n",
              "// JavaScript code for form validation can be added here\n",
              "</script>\n",
              "</head>\n",
              "<body>\n",
              "<form>\n",
              "<label for=\"complejidad\">Complejidad:</label>\n",
              "<select id=\"complejidad\" name=\"complejidad\">\n",
              "<option value=\"Alta\">Alta</option>\n",
              "<option value=\"Media\">Media</option>\n",
              "<option value=\"Baja\">Baja</option>\n",
              "</select>\n",
              "<label for=\"referencia\">Referencia:</label>\n",
              "<select id=\"referencia\" name=\"referencia\">\n",
              "<option value=\"Apple\">Apple</option>\n",
              "<option value=\"Samsung\">Samsung</option>\n",
              "<option value=\"Motorola\">Motorola</option>\n",
              "</select>\n",
              "<label for=\"asesor\">Asesor(a):</label>\n",
              "<input type=\"email\" id=\"asesor\" name=\"asesor\">\n",
              "<label for=\"tecnico\">Técnico:</label>\n",
              "<input type=\"email\" id=\"tecnico\" name=\"tecnico\">\n",
              "<label for=\"suministros\">Suministros:</label>\n",
              "<input type=\"email\" id=\"suministros\" name=\"suministros\">\n",
              "<button type=\"submit\">Submit</button>\n",
              "</form>\n",
              "</body>\n",
              "</html>"
            ]
          },
          "metadata": {}
        }
      ]
    }
  ]
}